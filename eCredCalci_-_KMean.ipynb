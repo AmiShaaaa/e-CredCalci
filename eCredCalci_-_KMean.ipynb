{
 "cells": [
  {
   "cell_type": "code",
   "execution_count": 1,
   "id": "9d088b8e",
   "metadata": {},
   "outputs": [],
   "source": [
    "import numpy as np\n",
    "import pandas as pd\n",
    "import matplotlib.pyplot as plt\n",
    "from sklearn.cluster import KMeans"
   ]
  },
  {
   "cell_type": "code",
   "execution_count": 2,
   "id": "e6ee0d65",
   "metadata": {},
   "outputs": [
    {
     "name": "stdout",
     "output_type": "stream",
     "text": [
      "Shape: (100, 2)\n"
     ]
    },
    {
     "data": {
      "text/html": [
       "<div>\n",
       "<style scoped>\n",
       "    .dataframe tbody tr th:only-of-type {\n",
       "        vertical-align: middle;\n",
       "    }\n",
       "\n",
       "    .dataframe tbody tr th {\n",
       "        vertical-align: top;\n",
       "    }\n",
       "\n",
       "    .dataframe thead th {\n",
       "        text-align: right;\n",
       "    }\n",
       "</style>\n",
       "<table border=\"1\" class=\"dataframe\">\n",
       "  <thead>\n",
       "    <tr style=\"text-align: right;\">\n",
       "      <th></th>\n",
       "      <th>Total Orders</th>\n",
       "      <th>credit</th>\n",
       "    </tr>\n",
       "  </thead>\n",
       "  <tbody>\n",
       "    <tr>\n",
       "      <th>0</th>\n",
       "      <td>7</td>\n",
       "      <td>48.785714</td>\n",
       "    </tr>\n",
       "    <tr>\n",
       "      <th>1</th>\n",
       "      <td>6</td>\n",
       "      <td>55.857143</td>\n",
       "    </tr>\n",
       "    <tr>\n",
       "      <th>2</th>\n",
       "      <td>7</td>\n",
       "      <td>40.285714</td>\n",
       "    </tr>\n",
       "    <tr>\n",
       "      <th>3</th>\n",
       "      <td>3</td>\n",
       "      <td>80.000000</td>\n",
       "    </tr>\n",
       "    <tr>\n",
       "      <th>4</th>\n",
       "      <td>6</td>\n",
       "      <td>57.785714</td>\n",
       "    </tr>\n",
       "  </tbody>\n",
       "</table>\n",
       "</div>"
      ],
      "text/plain": [
       "   Total Orders     credit\n",
       "0             7  48.785714\n",
       "1             6  55.857143\n",
       "2             7  40.285714\n",
       "3             3  80.000000\n",
       "4             6  57.785714"
      ]
     },
     "execution_count": 2,
     "metadata": {},
     "output_type": "execute_result"
    }
   ],
   "source": [
    "df = pd.read_csv('dataset.csv')\n",
    "print(\"Shape:\", df.shape)\n",
    "df.head()"
   ]
  },
  {
   "cell_type": "code",
   "execution_count": 3,
   "id": "b719200c",
   "metadata": {},
   "outputs": [
    {
     "data": {
      "text/plain": [
       "<matplotlib.collections.PathCollection at 0x216c87ccb80>"
      ]
     },
     "execution_count": 3,
     "metadata": {},
     "output_type": "execute_result"
    },
    {
     "data": {
      "image/png": "[encoded data removed]",
      "text/plain": [
       "<Figure size 432x288 with 1 Axes>"
      ]
     },
     "metadata": {
      "needs_background": "light"
     },
     "output_type": "display_data"
    }
   ],
   "source": [
    "plt.scatter(df['Total Orders'], df['credit'])"
   ]
  },
  {
   "cell_type": "code",
   "execution_count": 5,
   "id": "aad83f68",
   "metadata": {},
   "outputs": [],
   "source": [
    "wcss = []\n",
    "\n",
    "for i in range(1,11):\n",
    "    km = KMeans(n_clusters=i)\n",
    "    km.fit_predict(df)\n",
    "    wcss.append(km.inertia_)"
   ]
  },
  {
   "cell_type": "code",
   "execution_count": 6,
   "id": "bb4123af",
   "metadata": {},
   "outputs": [
    {
     "data": {
      "text/plain": [
       "[57388.374817647506,\n",
       " 14589.310548144145,\n",
       " 8371.569632771585,\n",
       " 4662.600633734203,\n",
       " 3391.394482234017,\n",
       " 2346.7651787570153,\n",
       " 1843.5579985894155,\n",
       " 1569.6325366274193,\n",
       " 1339.6635401454414,\n",
       " 1173.082346097698]"
      ]
     },
     "execution_count": 6,
     "metadata": {},
     "output_type": "execute_result"
    }
   ],
   "source": [
    "wcss"
   ]
  },
  {
   "cell_type": "code",
   "execution_count": 7,
   "id": "45400ee4",
   "metadata": {},
   "outputs": [
    {
     "data": {
      "text/plain": [
       "[<matplotlib.lines.Line2D at 0x216ccabb670>]"
      ]
     },
     "execution_count": 7,
     "metadata": {},
     "output_type": "execute_result"
    },
    {
     "data": {
      "image/png": "[encoded data removed]",
      "text/plain": [
       "<Figure size 432x288 with 1 Axes>"
      ]
     },
     "metadata": {
      "needs_background": "light"
     },
     "output_type": "display_data"
    }
   ],
   "source": [
    "plt.plot(range(1,11), wcss)"
   ]
  },
  {
   "cell_type": "code",
   "execution_count": 11,
   "id": "a7346f2f",
   "metadata": {},
   "outputs": [],
   "source": [
    "x = df.iloc[:,:].values\n",
    "km = KMeans(n_clusters=4)\n",
    "y_means = km.fit_predict(x)"
   ]
  },
  {
   "cell_type": "code",
   "execution_count": 12,
   "id": "7342f1ab",
   "metadata": {},
   "outputs": [
    {
     "data": {
      "text/plain": [
       "array([1, 3, 1, 0, 3, 2, 0, 3, 0, 3, 3, 0, 1, 3, 0, 1, 3, 1, 0, 1, 1, 0,\n",
       "       0, 3, 3, 0, 3, 3, 3, 1, 0, 3, 3, 1, 2, 1, 2, 0, 0, 1, 2, 1, 2, 2,\n",
       "       1, 1, 0, 1, 0, 1, 1, 1, 2, 1, 1, 1, 2, 1, 3, 0, 1, 2, 3, 0, 2, 0,\n",
       "       1, 1, 2, 1, 1, 3, 3, 3, 1, 0, 0, 0, 2, 0, 1, 3, 0, 2, 3, 2, 0, 0,\n",
       "       3, 1, 1, 3, 3, 3, 3, 1, 3, 2, 1, 2])"
      ]
     },
     "execution_count": 12,
     "metadata": {},
     "output_type": "execute_result"
    }
   ],
   "source": [
    "y_means"
   ]
  },
  {
   "cell_type": "code",
   "execution_count": 13,
   "id": "6a8ca268",
   "metadata": {},
   "outputs": [
    {
     "data": {
      "text/plain": [
       "array([[ 3.        , 80.        ],\n",
       "       [ 8.        , 92.5       ],\n",
       "       [ 3.        , 94.        ],\n",
       "       [ 3.        , 76.        ],\n",
       "       [ 4.        , 75.        ],\n",
       "       [ 7.        , 88.        ],\n",
       "       [10.        , 84.        ],\n",
       "       [ 3.        , 91.        ],\n",
       "       [ 4.        , 79.        ],\n",
       "       [ 1.        , 78.        ],\n",
       "       [ 1.        , 87.        ],\n",
       "       [ 6.        , 77.5       ],\n",
       "       [ 2.        , 78.        ],\n",
       "       [ 2.        , 76.        ],\n",
       "       [ 9.        , 87.5       ],\n",
       "       [ 4.        , 95.        ],\n",
       "       [ 4.        , 83.        ],\n",
       "       [ 2.        , 77.        ],\n",
       "       [ 1.        , 93.        ],\n",
       "       [ 9.        , 80.44444444],\n",
       "       [ 1.        , 75.5       ],\n",
       "       [ 6.        , 90.5       ],\n",
       "       [ 2.        , 95.        ],\n",
       "       [ 2.        , 76.5       ]])"
      ]
     },
     "execution_count": 13,
     "metadata": {},
     "output_type": "execute_result"
    }
   ],
   "source": [
    "x[y_means == 0]"
   ]
  },
  {
   "cell_type": "code",
   "execution_count": 14,
   "id": "75f81a3d",
   "metadata": {},
   "outputs": [
    {
     "data": {
      "text/plain": [
       "array([[ 7.        , 48.78571429],\n",
       "       [ 7.        , 40.28571429],\n",
       "       [ 9.        , 45.92063492],\n",
       "       [ 5.        , 30.        ],\n",
       "       [ 6.        , 32.45238095],\n",
       "       [ 1.        , 28.5       ],\n",
       "       [ 8.        , 42.39285714],\n",
       "       [ 7.        , 30.28571429],\n",
       "       [ 2.        , 41.42857143],\n",
       "       [ 3.        , 40.52380952],\n",
       "       [ 1.        , 32.92857143],\n",
       "       [ 2.        , 42.        ],\n",
       "       [ 8.        , 37.        ],\n",
       "       [ 7.        , 29.28571429],\n",
       "       [10.        , 35.28571429],\n",
       "       [10.        , 37.92857143],\n",
       "       [ 4.        , 39.64285714],\n",
       "       [10.        , 30.        ],\n",
       "       [ 5.        , 43.64285714],\n",
       "       [10.        , 30.92857143],\n",
       "       [ 7.        , 33.14285714],\n",
       "       [ 5.        , 37.78571429],\n",
       "       [ 4.        , 45.        ],\n",
       "       [ 9.        , 38.5       ],\n",
       "       [ 3.        , 30.92857143],\n",
       "       [ 5.        , 29.        ],\n",
       "       [ 8.        , 47.85714286],\n",
       "       [ 5.        , 28.57142857],\n",
       "       [ 6.        , 37.35714286],\n",
       "       [ 8.        , 41.57142857],\n",
       "       [ 2.        , 36.71428571],\n",
       "       [ 8.        , 40.82142857],\n",
       "       [10.        , 41.35714286]])"
      ]
     },
     "execution_count": 14,
     "metadata": {},
     "output_type": "execute_result"
    }
   ],
   "source": [
    "x[y_means == 1]"
   ]
  },
  {
   "cell_type": "code",
   "execution_count": 15,
   "id": "c8c90e81",
   "metadata": {},
   "outputs": [
    {
     "data": {
      "text/plain": [
       "array([[ 6.        ,  9.64285714],\n",
       "       [ 8.        , 26.25      ],\n",
       "       [ 8.        , 16.        ],\n",
       "       [ 5.        , 22.        ],\n",
       "       [ 1.        , 21.14285714],\n",
       "       [ 4.        , 20.07142857],\n",
       "       [ 2.        ,  4.57142857],\n",
       "       [ 1.        , 21.64285714],\n",
       "       [ 1.        , 15.71428571],\n",
       "       [ 1.        , 23.85714286],\n",
       "       [ 1.        , 18.07142857],\n",
       "       [ 1.        , 11.57142857],\n",
       "       [ 8.        , 24.92857143],\n",
       "       [ 8.        , 11.14285714],\n",
       "       [ 1.        , 14.64285714],\n",
       "       [ 6.        , 27.        ]])"
      ]
     },
     "execution_count": 15,
     "metadata": {},
     "output_type": "execute_result"
    }
   ],
   "source": [
    "x[y_means == 2]"
   ]
  },
  {
   "cell_type": "code",
   "execution_count": 16,
   "id": "bf42327c",
   "metadata": {},
   "outputs": [
    {
     "data": {
      "text/plain": [
       "array([[ 6.        , 55.85714286],\n",
       "       [ 6.        , 57.78571429],\n",
       "       [ 5.        , 70.5       ],\n",
       "       [ 3.        , 64.33333333],\n",
       "       [ 3.        , 68.69047619],\n",
       "       [ 9.        , 52.83333333],\n",
       "       [ 9.        , 71.17460317],\n",
       "       [ 7.        , 51.71428571],\n",
       "       [10.        , 58.92857143],\n",
       "       [ 3.        , 55.26190476],\n",
       "       [10.        , 59.21428571],\n",
       "       [ 6.        , 66.66666667],\n",
       "       [ 2.        , 65.        ],\n",
       "       [ 5.        , 70.        ],\n",
       "       [ 4.        , 68.85714286],\n",
       "       [ 5.        , 70.92857143],\n",
       "       [ 6.        , 51.42857143],\n",
       "       [ 5.        , 65.21428571],\n",
       "       [ 9.        , 62.24603175],\n",
       "       [ 3.        , 61.33333333],\n",
       "       [ 8.        , 65.46428571],\n",
       "       [ 2.        , 66.5       ],\n",
       "       [ 9.        , 54.6031746 ],\n",
       "       [ 6.        , 61.76190476],\n",
       "       [10.        , 61.35714286],\n",
       "       [ 7.        , 61.5       ],\n",
       "       [ 3.        , 57.97619048]])"
      ]
     },
     "execution_count": 16,
     "metadata": {},
     "output_type": "execute_result"
    }
   ],
   "source": [
    "x[y_means == 3]"
   ]
  },
  {
   "cell_type": "code",
   "execution_count": 20,
   "id": "1eb791f2",
   "metadata": {},
   "outputs": [
    {
     "data": {
      "text/plain": [
       "<matplotlib.collections.PathCollection at 0x216ccc76a00>"
      ]
     },
     "execution_count": 20,
     "metadata": {},
     "output_type": "execute_result"
    },
    {
     "data": {
      "image/png": "[encoded data removed]",
      "text/plain": [
       "<Figure size 432x288 with 1 Axes>"
      ]
     },
     "metadata": {
      "needs_background": "light"
     },
     "output_type": "display_data"
    }
   ],
   "source": [
    "plt.scatter(x[y_means == 0,0], x[y_means == 0,1], color='green')\n",
    "plt.scatter(x[y_means == 1,0], x[y_means == 1,1], color='orange')\n",
    "plt.scatter(x[y_means == 2,0], x[y_means == 2,1], color='red')\n",
    "plt.scatter(x[y_means == 3,0], x[y_means == 3,1], color='blue')"
   ]
  },
  {
   "cell_type": "code",
   "execution_count": null,
   "id": "311cb1f9",
   "metadata": {},
   "outputs": [],
   "source": []
  }
 ],
 "metadata": {
  "kernelspec": {
   "display_name": "Python 3 (ipykernel)",
   "language": "python",
   "name": "python3"
  },
  "language_info": {
   "codemirror_mode": {
    "name": "ipython",
    "version": 3
   },
   "file_extension": ".py",
   "mimetype": "text/x-python",
   "name": "python",
   "nbconvert_exporter": "python",
   "pygments_lexer": "ipython3",
   "version": "3.9.4"
  }
 },
 "nbformat": 4,
 "nbformat_minor": 5
}
